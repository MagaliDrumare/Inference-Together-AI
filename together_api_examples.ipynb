{
  "cells": [
    {
      "cell_type": "markdown",
      "metadata": {
        "id": "view-in-github",
        "colab_type": "text"
      },
      "source": [
        "<a href=\"https://colab.research.google.com/github/MagaliDrumare/Together-AI-inference-/blob/main/together_api_examples.ipynb\" target=\"_parent\"><img src=\"https://colab.research.google.com/assets/colab-badge.svg\" alt=\"Open In Colab\"/></a>"
      ]
    },
    {
      "cell_type": "markdown",
      "metadata": {
        "id": "1i1KBhgytKKk"
      },
      "source": [
        "Welcome everyone to a tutorial on the Together inference API. This notebook is paired with the following YouTube video:\n",
        "\n",
        "https://www.youtube.com/embed/_GQfj3jhXVM\n",
        "\n",
        "<iframe width=\"560\" height=\"315\" src=\"https://www.youtube.com/embed/_GQfj3jhXVM?si=EzdbFbcBV-d73ukV\" title=\"YouTube video player\" frameborder=\"0\" allow=\"accelerometer; autoplay; clipboard-write; encrypted-media; gyroscope; picture-in-picture; web-share\" allowfullscreen></iframe>\n",
        "\n",
        "There are quite a few inference APIs popping up now and, for any given model, you might find one API is cheaper than another and, as time goes on, the cheapest provider for some model might also change.\n",
        "\n",
        "For me personally, I've been following the team at Together for a while now and I really like what they are doing. They are also quite fast at adding new models and have a very large selection of text generation, chat, image and code specific models.\n",
        "\n",
        "It's also not just about who is the cheapest. It's who is the fastest and most reliable. At least from my testing so far, I have found the Together API to be extremely fast and consistent. Lately, I would say it's faster and more reliable than OpenAI's API.\n",
        "\n",
        "Finally, why API at all? One of main reasons I ever even used the OpenAI API was it's just easy to quickly try out ideas. All of the models on the Together API are open source models that you could download and run yourself, but the Together API is just easier. It's convenient and likely faster than any API you're probably going to build for yourself, but still, at any point, anything you build on the Together API could be moved to your own hardware and kept private internally, which is just nice to know.\n",
        "\n",
        "Okay, so let's check it out. To use the API, you'll need to set up an account and billing. I believe they also give some credit at sign up, but depending on when you see this that might be different. Once set up, you'll need to grab a key, which you can find in your settings by clicking your account logo at the top right, going to settings, and then API keys will be there.\n",
        "\n",
        "You can feel free to just place your key as plain text, but I'll use a .env file so I don't share my key with the world.\n",
        "\n",
        "I'll also use the together Python package, which you can install with pip install together."
      ]
    },
    {
      "cell_type": "code",
      "source": [
        "pip install together"
      ],
      "metadata": {
        "colab": {
          "base_uri": "https://localhost:8080/",
          "height": 921
        },
        "id": "LgE0wscfvAVa",
        "outputId": "95857578-aaf6-488e-98bd-577ffd09654b"
      },
      "execution_count": null,
      "outputs": [
        {
          "output_type": "stream",
          "name": "stdout",
          "text": [
            "Collecting together\n",
            "  Downloading together-1.2.1-py3-none-any.whl (61 kB)\n",
            "\u001b[2K     \u001b[90m━━━━━━━━━━━━━━━━━━━━━━━━━━━━━━━━━━━━━━━━\u001b[0m \u001b[32m61.4/61.4 kB\u001b[0m \u001b[31m1.4 MB/s\u001b[0m eta \u001b[36m0:00:00\u001b[0m\n",
            "\u001b[?25hRequirement already satisfied: aiohttp<4.0.0,>=3.9.3 in /usr/local/lib/python3.10/dist-packages (from together) (3.9.5)\n",
            "Requirement already satisfied: click<9.0.0,>=8.1.7 in /usr/local/lib/python3.10/dist-packages (from together) (8.1.7)\n",
            "Collecting eval-type-backport<0.3.0,>=0.1.3 (from together)\n",
            "  Downloading eval_type_backport-0.2.0-py3-none-any.whl (5.9 kB)\n",
            "Requirement already satisfied: filelock<4.0.0,>=3.13.1 in /usr/local/lib/python3.10/dist-packages (from together) (3.14.0)\n",
            "Requirement already satisfied: numpy>=1.23.5 in /usr/local/lib/python3.10/dist-packages (from together) (1.25.2)\n",
            "Collecting pillow<11.0.0,>=10.3.0 (from together)\n",
            "  Downloading pillow-10.3.0-cp310-cp310-manylinux_2_28_x86_64.whl (4.5 MB)\n",
            "\u001b[2K     \u001b[90m━━━━━━━━━━━━━━━━━━━━━━━━━━━━━━━━━━━━━━━━\u001b[0m \u001b[32m4.5/4.5 MB\u001b[0m \u001b[31m32.1 MB/s\u001b[0m eta \u001b[36m0:00:00\u001b[0m\n",
            "\u001b[?25hRequirement already satisfied: pyarrow>=10.0.1 in /usr/local/lib/python3.10/dist-packages (from together) (14.0.2)\n",
            "Requirement already satisfied: pydantic<3.0.0,>=2.6.3 in /usr/local/lib/python3.10/dist-packages (from together) (2.7.3)\n",
            "Requirement already satisfied: requests<3.0.0,>=2.31.0 in /usr/local/lib/python3.10/dist-packages (from together) (2.31.0)\n",
            "Requirement already satisfied: tabulate<0.10.0,>=0.9.0 in /usr/local/lib/python3.10/dist-packages (from together) (0.9.0)\n",
            "Requirement already satisfied: tqdm<5.0.0,>=4.66.2 in /usr/local/lib/python3.10/dist-packages (from together) (4.66.4)\n",
            "Requirement already satisfied: typer<0.13,>=0.9 in /usr/local/lib/python3.10/dist-packages (from together) (0.12.3)\n",
            "Requirement already satisfied: aiosignal>=1.1.2 in /usr/local/lib/python3.10/dist-packages (from aiohttp<4.0.0,>=3.9.3->together) (1.3.1)\n",
            "Requirement already satisfied: attrs>=17.3.0 in /usr/local/lib/python3.10/dist-packages (from aiohttp<4.0.0,>=3.9.3->together) (23.2.0)\n",
            "Requirement already satisfied: frozenlist>=1.1.1 in /usr/local/lib/python3.10/dist-packages (from aiohttp<4.0.0,>=3.9.3->together) (1.4.1)\n",
            "Requirement already satisfied: multidict<7.0,>=4.5 in /usr/local/lib/python3.10/dist-packages (from aiohttp<4.0.0,>=3.9.3->together) (6.0.5)\n",
            "Requirement already satisfied: yarl<2.0,>=1.0 in /usr/local/lib/python3.10/dist-packages (from aiohttp<4.0.0,>=3.9.3->together) (1.9.4)\n",
            "Requirement already satisfied: async-timeout<5.0,>=4.0 in /usr/local/lib/python3.10/dist-packages (from aiohttp<4.0.0,>=3.9.3->together) (4.0.3)\n",
            "Requirement already satisfied: annotated-types>=0.4.0 in /usr/local/lib/python3.10/dist-packages (from pydantic<3.0.0,>=2.6.3->together) (0.7.0)\n",
            "Requirement already satisfied: pydantic-core==2.18.4 in /usr/local/lib/python3.10/dist-packages (from pydantic<3.0.0,>=2.6.3->together) (2.18.4)\n",
            "Requirement already satisfied: typing-extensions>=4.6.1 in /usr/local/lib/python3.10/dist-packages (from pydantic<3.0.0,>=2.6.3->together) (4.12.2)\n",
            "Requirement already satisfied: charset-normalizer<4,>=2 in /usr/local/lib/python3.10/dist-packages (from requests<3.0.0,>=2.31.0->together) (3.3.2)\n",
            "Requirement already satisfied: idna<4,>=2.5 in /usr/local/lib/python3.10/dist-packages (from requests<3.0.0,>=2.31.0->together) (3.7)\n",
            "Requirement already satisfied: urllib3<3,>=1.21.1 in /usr/local/lib/python3.10/dist-packages (from requests<3.0.0,>=2.31.0->together) (2.0.7)\n",
            "Requirement already satisfied: certifi>=2017.4.17 in /usr/local/lib/python3.10/dist-packages (from requests<3.0.0,>=2.31.0->together) (2024.6.2)\n",
            "Requirement already satisfied: shellingham>=1.3.0 in /usr/local/lib/python3.10/dist-packages (from typer<0.13,>=0.9->together) (1.5.4)\n",
            "Requirement already satisfied: rich>=10.11.0 in /usr/local/lib/python3.10/dist-packages (from typer<0.13,>=0.9->together) (13.7.1)\n",
            "Requirement already satisfied: markdown-it-py>=2.2.0 in /usr/local/lib/python3.10/dist-packages (from rich>=10.11.0->typer<0.13,>=0.9->together) (3.0.0)\n",
            "Requirement already satisfied: pygments<3.0.0,>=2.13.0 in /usr/local/lib/python3.10/dist-packages (from rich>=10.11.0->typer<0.13,>=0.9->together) (2.16.1)\n",
            "Requirement already satisfied: mdurl~=0.1 in /usr/local/lib/python3.10/dist-packages (from markdown-it-py>=2.2.0->rich>=10.11.0->typer<0.13,>=0.9->together) (0.1.2)\n",
            "Installing collected packages: pillow, eval-type-backport, together\n",
            "  Attempting uninstall: pillow\n",
            "    Found existing installation: Pillow 9.4.0\n",
            "    Uninstalling Pillow-9.4.0:\n",
            "      Successfully uninstalled Pillow-9.4.0\n",
            "\u001b[31mERROR: pip's dependency resolver does not currently take into account all the packages that are installed. This behaviour is the source of the following dependency conflicts.\n",
            "imageio 2.31.6 requires pillow<10.1.0,>=8.3.2, but you have pillow 10.3.0 which is incompatible.\u001b[0m\u001b[31m\n",
            "\u001b[0mSuccessfully installed eval-type-backport-0.2.0 pillow-10.3.0 together-1.2.1\n"
          ]
        },
        {
          "output_type": "display_data",
          "data": {
            "application/vnd.colab-display-data+json": {
              "pip_warning": {
                "packages": [
                  "PIL"
                ]
              },
              "id": "22019c113bac440d985757b8f31cdd94"
            }
          },
          "metadata": {}
        }
      ]
    },
    {
      "cell_type": "code",
      "source": [
        "pip install python-dotenv"
      ],
      "metadata": {
        "colab": {
          "base_uri": "https://localhost:8080/"
        },
        "id": "JfartOiZvE2v",
        "outputId": "07ac5c40-6062-4da6-d39d-d97c1395a01c"
      },
      "execution_count": null,
      "outputs": [
        {
          "output_type": "stream",
          "name": "stdout",
          "text": [
            "Collecting python-dotenv\n",
            "  Downloading python_dotenv-1.0.1-py3-none-any.whl (19 kB)\n",
            "Installing collected packages: python-dotenv\n",
            "Successfully installed python-dotenv-1.0.1\n"
          ]
        }
      ]
    },
    {
      "cell_type": "code",
      "execution_count": null,
      "metadata": {
        "id": "5exrxBOwtKKm"
      },
      "outputs": [],
      "source": [
        "import together # pip install together\n",
        "import dotenv # pip install python-dotenv\n",
        "import os\n",
        "\n",
        "#dotenv.load_dotenv()\n",
        "#together.api_key = os.getenv(\"TOGETHER_API\")\n",
        "\n"
      ]
    },
    {
      "cell_type": "code",
      "source": [
        "import os\n",
        "\n",
        "os.environ[\"TOGETHER_API_KEY\"] = \"XXXXXXXXX\"\n",
        "\n",
        "from together import Client\n",
        "\n",
        "client = Client()"
      ],
      "metadata": {
        "id": "eRlBWqU-0yRP"
      },
      "execution_count": null,
      "outputs": []
    },
    {
      "cell_type": "markdown",
      "metadata": {
        "id": "o_M7ydoatKKn"
      },
      "source": [
        "To begin, we can do a basic API call to make sure things are working, and we can check out how many models are currently available from the Together API:"
      ]
    },
    {
      "cell_type": "code",
      "execution_count": null,
      "metadata": {
        "colab": {
          "base_uri": "https://localhost:8080/"
        },
        "id": "C-h0edvYtKKn",
        "outputId": "2648c5a3-ae73-4024-fed9-2c9267144ec3"
      },
      "outputs": [
        {
          "output_type": "stream",
          "name": "stderr",
          "text": [
            "<ipython-input-4-d0fe1da68d1a>:1: DeprecationWarning: Call to deprecated function list.\n",
            "  model_list = together.Models.list()\n"
          ]
        },
        {
          "output_type": "stream",
          "name": "stdout",
          "text": [
            "191 models available\n"
          ]
        }
      ],
      "source": [
        "model_list = together.Models.list()\n",
        "print(f\"{len(model_list)} models available\")"
      ]
    },
    {
      "cell_type": "markdown",
      "metadata": {
        "id": "y3M96a__tKKo"
      },
      "source": [
        "That's actually 3 more new models than I got a few days ago running this!\n",
        "\n",
        "The hottest latest model I'd say right now is the new Mistral MoE, called Mixtral, which is a 8x 7B Mixture of Experts. Let's check that out. First though, we will always probably want to acquaint ourselves with the model's prompt structure. Models are often a little different.\n",
        "\n",
        "You also can save yourself a little bit of time by using this time to just test the model in the Together Playground before bothering with writing any code, so you know the model you want to use can do what you have in mind.\n",
        "\n",
        "So, for example, we can head to the https://api.together.xyz/playground/ and check out the models. If I had to guess, I would imagine the organization here will change with time, but you can see the models here organized as all, chat, language, image, and code, as well as all the models listed out.\n",
        "\n",
        "We can then find Mixtral, click on it, and here you can see the path for the model, you can see a link to the huggingface URL, and you can also open the model in the playground.\n",
        "\n",
        "If anyone from Together is watching, I would love to see the model's prompt structure here as well for instruct models. This is the base mixtral model though, so it's purely a text generation model. Let's try it out.\n",
        "\n",
        "`To change the brakes on your car, you start by`\n",
        "\n",
        "We'll also set the output length to 64 for now, but you can also tweak quite a few parameters here, which you can also adjust in the API, so I feel like this is usually a good spot to start with testing your ideas before you even bother with writing any code with the API.\n",
        "\n",
        "Okay, say you're happy with these results, and you do want to implement this via the API. Again, the model path is:\n",
        "`mistralai/Mixtral-8x7B-v0.1`, so we can use this model with Together like so:"
      ]
    },
    {
      "cell_type": "code",
      "execution_count": null,
      "metadata": {
        "colab": {
          "base_uri": "https://localhost:8080/"
        },
        "id": "wsR8mlY9tKKo",
        "outputId": "1fb645f8-e169-4bac-ba6f-73e06ac38e04",
        "collapsed": true
      },
      "outputs": [
        {
          "output_type": "stream",
          "name": "stdout",
          "text": [
            "A great DIY project! To change the brakes on your car, you typically start by:\n",
            "\n",
            "1. **Jack up the car**: Use a car jack to lift the car off the ground, giving you clearance to work underneath. Make sure the car is securely supported by jack stands and that the parking brake is engaged.\n",
            "2. **Remove the wheel**: Take off the wheel on the side of the car where you'll be working on the brakes. This will give you access to the brake components.\n",
            "3. **Locate the brake caliper**: The brake caliper is the part that houses the brake pads. It's usually attached to the wheel hub or suspension component.\n",
            "4. **Remove the caliper bolts**: Use a wrench or socket to loosen and remove the bolts that hold the caliper in place. Be careful not to damage the brake hose or ABS sensor wires.\n",
            "5. **Pull the caliper off**: Gently pull the caliper off the rotor, taking care not to damage the brake pads or caliper.\n",
            "6. **Remove the old brake pads**: Take out the old brake pads and discard them.\n",
            "7. **Install the new brake pads**: Put in the new brake pads, making sure they're properly seated and aligned.\n",
            "8. **Reinstall the caliper**: Put the caliper back over the rotor, making sure it's properly aligned and secured with the caliper bolts.\n",
            "9. **Repeat the process for the other brake pads**: If your car has multiple brake pads (e.g., front and rear), you'll need to repeat the process for each set.\n",
            "10. **Bleed the brakes**: After installing new brake pads, it's a good idea to bleed the brakes to remove any air that may have entered the system.\n",
            "\n",
            "Remember to always refer to your car's repair manual or consult with a professional mechanic if you're unsure about any part of the process.\n"
          ]
        }
      ],
      "source": [
        "model = \"mistralai/Mixtral-8x7B-v0.1\"\n",
        "\n",
        "#prompt = \"\"\"To change the brakes on your car, you start by\"\"\"\n",
        "\n",
        "output = client.chat.completions.create(\n",
        "  model=\"meta-llama/Llama-3-8b-chat-hf\",\n",
        "  messages=[{\"role\": \"user\", \"content\": \"To change the brakes on your car, you start by\"}]\n",
        "  #stop = [] # add any sequence you want to stop generating at.\n",
        ")\n",
        "\n",
        "# print generated text\n",
        "\n",
        "#print(output.choices[0].message.content)\n",
        "#print(output['output']['choices'[0]['text']])\n",
        "print(output.choices[0].message.content)"
      ]
    },
    {
      "cell_type": "code",
      "source": [
        "response = client.chat.completions.create(\n",
        "    model=\"meta-llama/Llama-3-8b-chat-hf\",\n",
        "    messages=[{\"role\": \"user\", \"content\": \"What are some fun things to do in New York\"}],\n",
        ")\n",
        "print(response.choices[0].message.content)"
      ],
      "metadata": {
        "colab": {
          "base_uri": "https://localhost:8080/"
        },
        "id": "Ev8uedC22udY",
        "outputId": "3830529c-8477-4812-b741-cf4d3d257843"
      },
      "execution_count": null,
      "outputs": [
        {
          "output_type": "stream",
          "name": "stdout",
          "text": [
            "The city that never sleeps! New York City is a vibrant and exciting place to visit, with endless options for entertainment, culture, and adventure. Here are some fun things to do in New York:\n",
            "\n",
            "**Iconic Landmarks and Attractions**\n",
            "\n",
            "1. Visit the Statue of Liberty and Ellis Island: Take a ferry to Liberty Island to see the iconic statue up close and visit the Ellis Island Immigration Museum.\n",
            "2. Explore the Empire State Building: Enjoy panoramic views of the city from the observation deck on the 86th floor.\n",
            "3. Walk across the Brooklyn Bridge: Take in the stunning views of the Manhattan skyline and the East River.\n",
            "4. Visit the 9/11 Memorial & Museum: A poignant tribute to the victims of the 9/11 attacks.\n",
            "5. See a Broadway Show: Catch a performance of a hit musical or play on Broadway.\n",
            "\n",
            "**Museums and Galleries**\n",
            "\n",
            "1. The Metropolitan Museum of Art: One of the world's largest and most famous museums, with a vast collection of art and artifacts.\n",
            "2. The Museum of Modern Art (MoMA): A must-visit for modern art enthusiasts, with works by Warhol, Picasso, and more.\n",
            "3. The American Museum of Natural History: Explore the wonders of the natural world, from dinosaurs to space exploration.\n",
            "4. The Guggenheim Museum: Designed by Frank Lloyd Wright, this museum features an impressive collection of modern and contemporary art.\n",
            "5. The Whitney Museum of American Art: Focuses on American art from the 20th and 21st centuries.\n",
            "\n",
            "**Parks and Outdoor Spaces**\n",
            "\n",
            "1. Central Park: A tranquil oasis in the middle of Manhattan, with walking paths, lakes, and plenty of green space.\n",
            "2. Prospect Park: A beautiful park in Brooklyn with a lake, walking trails, and plenty of picnic spots.\n",
            "3. The High Line: An elevated park built on an old rail line, with great views of the Hudson River.\n",
            "4. Brooklyn Bridge Park: A waterfront park with great views of the Manhattan skyline and the Brooklyn Bridge.\n",
            "5. The Bronx Zoo: The largest metropolitan zoo in the United States, with over 6,000 animals from around the world.\n",
            "\n",
            "**Food and Drink**\n",
            "\n",
            "1. Try a classic New York-style pizza: Visit Lombardi's, Joe's Pizza, or Patsy's Pizzeria for a slice of heaven.\n",
            "2. Explore Chinatown and Little Italy: Sample the flavors of Asia and Italy in these vibrant neighborhoods.\n",
            "3. Visit a classic diner: Try a classic American breakfast or lunch at a diner like Sarabeth's or Russ & Daughters Cafe.\n",
            "4. Take a food tour: Sample the best of New York's culinary scene on a guided tour.\n",
            "5. Visit a rooftop bar: Enjoy stunning views of the city while sipping a cocktail at a rooftop bar like 230 Fifth or the Top of the Strand.\n",
            "\n",
            "**Neighborhoods to Explore**\n",
            "\n",
            "1. SoHo: Known for its trendy boutiques, art galleries, and cast-iron buildings.\n",
            "2. Greenwich Village: A charming neighborhood with historic brownstones, charming streets, and plenty of restaurants and bars.\n",
            "3. Williamsburg: A hip neighborhood in Brooklyn with a thriving arts scene, indie music venues, and trendy restaurants.\n",
            "4. Harlem: A historic neighborhood with a rich African-American culture, known for its jazz clubs, soul food restaurants, and the Apollo Theater.\n",
            "5. Chinatown and Little Italy: Explore the vibrant streets of these two neighborhoods, filled with colorful markets, street food, and cultural attractions.\n",
            "\n",
            "These are just a few of the many fun things to do in New York City. With so much to see and do, you're sure to have an unforgettable experience in the city that never sleeps!\n"
          ]
        }
      ]
    }
  ],
  "metadata": {
    "kernelspec": {
      "display_name": "Python 3",
      "name": "python3"
    },
    "language_info": {
      "codemirror_mode": {
        "name": "ipython",
        "version": 3
      },
      "file_extension": ".py",
      "mimetype": "text/x-python",
      "name": "python",
      "nbconvert_exporter": "python",
      "pygments_lexer": "ipython3",
      "version": "3.8.10"
    },
    "colab": {
      "provenance": [],
      "machine_shape": "hm",
      "gpuType": "T4",
      "include_colab_link": true
    },
    "accelerator": "GPU"
  },
  "nbformat": 4,
  "nbformat_minor": 0
}